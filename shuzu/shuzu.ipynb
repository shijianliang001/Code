{
 "cells": [
  {
   "cell_type": "markdown",
   "metadata": {},
   "source": [
    "1431 拥有最多糖果的孩子\n",
    "\n",
    "\n",
    "给你一个数组 candies 和一个整数 extraCandies ，其中 candies[i] 代表第 i 个孩子拥有的糖果数目。\n",
    "\n",
    "对每一个孩子，检查是否存在一种方案，将额外的 extraCandies 个糖果分配给孩子们之后，此孩子有 最多 的糖果。注意，允许有多个孩子同时拥有 最多 的糖果数目。\n",
    "\n",
    " \n",
    "示例 1：\n",
    "\n",
    "输入：candies = [2,3,5,1,3], extraCandies = 3\n",
    "输出：[true,true,true,false,true] \n",
    "解释：\n",
    "孩子 1 有 2 个糖果，如果他得到所有额外的糖果（3个），那么他总共有 5 个糖果，他将成为拥有最多糖果的孩子。\n",
    "孩子 2 有 3 个糖果，如果他得到至少 2 个额外糖果，那么他将成为拥有最多糖果的孩子。\n",
    "孩子 3 有 5 个糖果，他已经是拥有最多糖果的孩子。\n",
    "孩子 4 有 1 个糖果，即使他得到所有额外的糖果，他也只有 4 个糖果，无法成为拥有糖果最多的孩子。\n",
    "孩子 5 有 3 个糖果，如果他得到至少 2 个额外糖果，那么他将成为拥有最多糖果的孩子。"
   ]
  },
  {
   "cell_type": "code",
   "execution_count": 1,
   "metadata": {},
   "outputs": [],
   "source": [
    "candies = [2,3,5,1,3]\n",
    "extraCandies = 3"
   ]
  },
  {
   "cell_type": "code",
   "execution_count": 7,
   "metadata": {},
   "outputs": [
    {
     "data": {
      "text/plain": [
       "[True, True, True, False, True]"
      ]
     },
     "execution_count": 7,
     "metadata": {},
     "output_type": "execute_result"
    }
   ],
   "source": [
    "res = []\n",
    "for i in candies:\n",
    "    if (i + extraCandies) >= max(candies):\n",
    "        res.append(True)\n",
    "    else:\n",
    "        res.append(False)\n",
    "res"
   ]
  },
  {
   "cell_type": "code",
   "execution_count": 6,
   "metadata": {},
   "outputs": [
    {
     "data": {
      "text/plain": [
       "[True, True, True, False, True]"
      ]
     },
     "execution_count": 6,
     "metadata": {},
     "output_type": "execute_result"
    }
   ],
   "source": [
    "[(i + extraCandies) >= max(candies) for i in candies]"
   ]
  },
  {
   "cell_type": "code",
   "execution_count": 9,
   "metadata": {},
   "outputs": [],
   "source": [
    "import numpy as np"
   ]
  },
  {
   "cell_type": "markdown",
   "metadata": {},
   "source": [
    "1295. 统计位数为偶数的数字\n",
    "\n",
    "给你一个整数数组 nums，请你返回其中位数为 偶数 的数字的个数。\n",
    "\n",
    "输入：nums = [12,345,2,6,7896]\n",
    "输出：2\n",
    "解释：\n",
    "12 是 2 位数字（位数为偶数） \n",
    "345 是 3 位数字（位数为奇数）  \n",
    "2 是 1 位数字（位数为奇数） \n",
    "6 是 1 位数字 位数为奇数） \n",
    "7896 是 4 位数字（位数为偶数）  \n",
    "因此只有 12 和 7896 是位数为偶数的数字\n"
   ]
  },
  {
   "cell_type": "code",
   "execution_count": 8,
   "metadata": {},
   "outputs": [],
   "source": [
    "nums = [12,345,2,6,7896]"
   ]
  },
  {
   "cell_type": "code",
   "execution_count": 35,
   "metadata": {},
   "outputs": [
    {
     "data": {
      "text/plain": [
       "2"
      ]
     },
     "execution_count": 35,
     "metadata": {},
     "output_type": "execute_result"
    }
   ],
   "source": [
    "len([i for i in nums if len(str(i)) % 2 == 0])"
   ]
  },
  {
   "cell_type": "code",
   "execution_count": 23,
   "metadata": {},
   "outputs": [
    {
     "data": {
      "text/plain": [
       "3"
      ]
     },
     "execution_count": 23,
     "metadata": {},
     "output_type": "execute_result"
    }
   ],
   "source": [
    "len(\"555\")"
   ]
  },
  {
   "cell_type": "code",
   "execution_count": null,
   "metadata": {},
   "outputs": [],
   "source": []
  },
  {
   "cell_type": "markdown",
   "metadata": {},
   "source": [
    "1299. 将每个元素替换为右侧最大元素\n",
    "\n",
    "给你一个数组 arr ，请你将每个元素用它右边最大的元素替换，如果是最后一个元素，用 -1 替换。\n",
    "\n",
    "完成所有替换操作后，请你返回这个数组。\n",
    "\n",
    "输入：arr = [17,18,5,4,6,1]\n",
    "输出：[18,6,6,6,1,-1]"
   ]
  },
  {
   "cell_type": "code",
   "execution_count": 36,
   "metadata": {},
   "outputs": [],
   "source": [
    "arr = [17,18,5,4,6,1]"
   ]
  },
  {
   "cell_type": "code",
   "execution_count": 38,
   "metadata": {},
   "outputs": [
    {
     "data": {
      "text/plain": [
       "18"
      ]
     },
     "execution_count": 38,
     "metadata": {},
     "output_type": "execute_result"
    }
   ],
   "source": [
    "max(arr[1:])"
   ]
  },
  {
   "cell_type": "code",
   "execution_count": 64,
   "metadata": {},
   "outputs": [],
   "source": [
    "a = [max(arr[index+1:]) for index, i in enumerate(arr[:-1])]"
   ]
  },
  {
   "cell_type": "code",
   "execution_count": 65,
   "metadata": {},
   "outputs": [],
   "source": [
    "a.append(-1)"
   ]
  },
  {
   "cell_type": "code",
   "execution_count": 66,
   "metadata": {},
   "outputs": [
    {
     "data": {
      "text/plain": [
       "[18, 6, 6, 6, 1, -1]"
      ]
     },
     "execution_count": 66,
     "metadata": {},
     "output_type": "execute_result"
    }
   ],
   "source": [
    "a"
   ]
  },
  {
   "cell_type": "code",
   "execution_count": 69,
   "metadata": {},
   "outputs": [
    {
     "data": {
      "text/plain": [
       "[18, 6, 6, 6, 1]"
      ]
     },
     "execution_count": 69,
     "metadata": {},
     "output_type": "execute_result"
    }
   ],
   "source": [
    "[max(arr[index+1:] + [-1])  for index, i in enumerate(arr[:-1])]"
   ]
  },
  {
   "cell_type": "code",
   "execution_count": null,
   "metadata": {},
   "outputs": [],
   "source": []
  },
  {
   "cell_type": "markdown",
   "metadata": {},
   "source": [
    "1304. 和为零的N个唯一整数\n",
    "\n",
    "给你一个整数 n，请你返回 任意 一个由 n 个 各不相同 的整数组成的数组，并且这 n 个数相加和为 0 。\n",
    "\n",
    "输入：n = 5\n",
    "输出：[-7,-1,1,3,4]\n",
    "解释：这些数组也是正确的 [-5,-1,1,2,3]，[-3,-1,2,-2,4]。"
   ]
  },
  {
   "cell_type": "code",
   "execution_count": 88,
   "metadata": {},
   "outputs": [
    {
     "data": {
      "text/plain": [
       "[-4, -2, 0, 2, 4]"
      ]
     },
     "execution_count": 88,
     "metadata": {},
     "output_type": "execute_result"
    }
   ],
   "source": [
    "n = 5\n",
    "[i for i in range(-(n-1),n,2)]"
   ]
  },
  {
   "cell_type": "code",
   "execution_count": 89,
   "metadata": {},
   "outputs": [
    {
     "data": {
      "text/plain": [
       "[-3, -1, 1, 3]"
      ]
     },
     "execution_count": 89,
     "metadata": {},
     "output_type": "execute_result"
    }
   ],
   "source": [
    "n = 4\n",
    "[i for i in range(-(n-1),n,2)]"
   ]
  },
  {
   "cell_type": "code",
   "execution_count": 90,
   "metadata": {},
   "outputs": [
    {
     "data": {
      "text/plain": [
       "[-2, 0, 2]"
      ]
     },
     "execution_count": 90,
     "metadata": {},
     "output_type": "execute_result"
    }
   ],
   "source": [
    "n = 3\n",
    "[i for i in range(-(n-1),n,2)]"
   ]
  },
  {
   "cell_type": "code",
   "execution_count": 97,
   "metadata": {},
   "outputs": [
    {
     "data": {
      "text/plain": [
       "True"
      ]
     },
     "execution_count": 97,
     "metadata": {},
     "output_type": "execute_result"
    }
   ],
   "source": [
    "n = 2\n",
    "[i for i in range(-(n-1),n,2)] == [i for i in range(1-n, n ,2)]"
   ]
  },
  {
   "cell_type": "code",
   "execution_count": 96,
   "metadata": {},
   "outputs": [
    {
     "data": {
      "text/plain": [
       "[-3, -1, 1, 3]"
      ]
     },
     "execution_count": 96,
     "metadata": {},
     "output_type": "execute_result"
    }
   ],
   "source": [
    "n = 4\n",
    "[i for i in range(1-n, n ,2)]"
   ]
  },
  {
   "cell_type": "markdown",
   "metadata": {},
   "source": [
    "1313. 解压缩编码列表\n",
    "\n",
    "给你一个以行程长度编码压缩的整数列表 nums 。\n",
    "\n",
    "考虑每对相邻的两个元素 [freq, val] = [nums[2*i], nums[2*i+1]] （其中 i >= 0 ），每一对都表示解压后子列表中有 freq 个值为 val 的元素，你需要从左到右连接所有子列表以生成解压后的列表。\n",
    "\n",
    "请你返回解压后的列表。\n",
    "\n",
    "输入：nums = [1,2,3,4]\n",
    "输出：[2,4,4,4]\n",
    "解释：第一对 [1,2] 代表着 2 的出现频次为 1，所以生成数组 [2]。\n",
    "第二对 [3,4] 代表着 4 的出现频次为 3，所以生成数组 [4,4,4]。\n",
    "最后将它们串联到一起 [2] + [4,4,4] = [2,4,4,4]。\n",
    "\n"
   ]
  },
  {
   "cell_type": "code",
   "execution_count": 133,
   "metadata": {},
   "outputs": [
    {
     "data": {
      "text/plain": [
       "array([2, 4, 4, 4])"
      ]
     },
     "execution_count": 133,
     "metadata": {},
     "output_type": "execute_result"
    }
   ],
   "source": [
    "nums = [1,2,3,4]\n",
    "np.repeat(nums[1::2],nums[::2])"
   ]
  },
  {
   "cell_type": "code",
   "execution_count": 136,
   "metadata": {},
   "outputs": [
    {
     "data": {
      "text/plain": [
       "[1, 3, 3]"
      ]
     },
     "execution_count": 136,
     "metadata": {},
     "output_type": "execute_result"
    }
   ],
   "source": [
    "nums = [1,1,2,3]\n",
    "list(np.repeat(nums[1::2],nums[::2]))"
   ]
  },
  {
   "cell_type": "code",
   "execution_count": 153,
   "metadata": {},
   "outputs": [
    {
     "data": {
      "text/plain": [
       "[2, 4, 4, 4]"
      ]
     },
     "execution_count": 153,
     "metadata": {},
     "output_type": "execute_result"
    }
   ],
   "source": [
    "nums = [1,2,3,4]\n",
    "sum([[b]*a for a, b in zip(nums[::2],nums[1::2])], [])"
   ]
  },
  {
   "cell_type": "code",
   "execution_count": 139,
   "metadata": {},
   "outputs": [
    {
     "data": {
      "text/plain": [
       "[2, 4]"
      ]
     },
     "execution_count": 139,
     "metadata": {},
     "output_type": "execute_result"
    }
   ],
   "source": [
    "nums[1::2]"
   ]
  },
  {
   "cell_type": "code",
   "execution_count": null,
   "metadata": {},
   "outputs": [],
   "source": []
  },
  {
   "cell_type": "markdown",
   "metadata": {},
   "source": [
    "1331. 数组序号转换\n",
    "\n",
    "给你一个整数数组 arr ，请你将数组中的每个元素替换为它们排序后的序号。\n",
    "\n",
    "序号代表了一个元素有多大。序号编号的规则如下：\n",
    "\n",
    "序号从 1 开始编号。\n",
    "一个元素越大，那么序号越大。如果两个元素相等，那么它们的序号相同。\n",
    "每个数字的序号都应该尽可能地小。\n",
    "\n",
    "输入：arr = [40,10,20,30]\n",
    "输出：[4,1,2,3]\n",
    "解释：40 是最大的元素。 10 是最小的元素。 20 是第二小的数字。 30 是第三小的数字。\n"
   ]
  },
  {
   "cell_type": "code",
   "execution_count": 154,
   "metadata": {},
   "outputs": [],
   "source": [
    "arr = [40,10,20,30]"
   ]
  },
  {
   "cell_type": "code",
   "execution_count": 173,
   "metadata": {},
   "outputs": [
    {
     "data": {
      "text/plain": [
       "[4, 1, 2, 3]"
      ]
     },
     "execution_count": 173,
     "metadata": {},
     "output_type": "execute_result"
    }
   ],
   "source": [
    "arr = [40,10,20,30]\n",
    "[sorted(set(arr)).index(i) + 1 for i in arr]"
   ]
  },
  {
   "cell_type": "code",
   "execution_count": 174,
   "metadata": {},
   "outputs": [
    {
     "data": {
      "text/plain": [
       "[1, 1, 1]"
      ]
     },
     "execution_count": 174,
     "metadata": {},
     "output_type": "execute_result"
    }
   ],
   "source": [
    "arr = [100,100,100]\n",
    "[sorted(set(arr)).index(i) + 1 for i in arr]"
   ]
  },
  {
   "cell_type": "code",
   "execution_count": 175,
   "metadata": {},
   "outputs": [
    {
     "data": {
      "text/plain": [
       "[5, 3, 4, 2, 8, 6, 7, 1, 3]"
      ]
     },
     "execution_count": 175,
     "metadata": {},
     "output_type": "execute_result"
    }
   ],
   "source": [
    "arr = [37,12,28,9,100,56,80,5,12]\n",
    "[sorted(set(arr)).index(i) + 1 for i in arr]"
   ]
  },
  {
   "cell_type": "markdown",
   "metadata": {},
   "source": [
    "1337. 方阵中战斗力最弱的 K 行\n",
    "\n",
    "给你一个大小为 m * n 的方阵 mat，方阵由若干军人和平民组成，分别用 1 和 0 表示。\n",
    "\n",
    "请你返回方阵中战斗力最弱的 k 行的索引，按从最弱到最强排序。\n",
    "\n",
    "如果第 i 行的军人数量少于第 j 行，或者两行军人数量相同但 i 小于 j，那么我们认为第 i 行的战斗力比第 j 行弱。\n",
    "\n",
    "军人 总是 排在一行中的靠前位置，也就是说 1 总是出现在 0 之前。\n",
    "\n",
    "\n",
    "输入：mat = \n",
    "[[1,1,0,0,0],\n",
    " [1,1,1,1,0],\n",
    " [1,0,0,0,0],\n",
    " [1,1,0,0,0],\n",
    " [1,1,1,1,1]], \n",
    "k = 3\n",
    "输出：[2,0,3]\n",
    "解释：\n",
    "每行中的军人数目：\n",
    "行 0 -> 2 \n",
    "行 1 -> 4 \n",
    "行 2 -> 1 \n",
    "行 3 -> 2 \n",
    "行 4 -> 5 \n",
    "从最弱到最强对这些行排序后得到 [2,0,3,1,4]\n"
   ]
  },
  {
   "cell_type": "code",
   "execution_count": 177,
   "metadata": {},
   "outputs": [],
   "source": [
    "mat = [\n",
    "       [1,1,0,0,0],\n",
    "       [1,1,1,1,0],\n",
    "       [1,0,0,0,0],\n",
    "       [1,1,0,0,0],\n",
    "       [1,1,1,1,1]\n",
    "]"
   ]
  },
  {
   "cell_type": "code",
   "execution_count": 202,
   "metadata": {},
   "outputs": [],
   "source": [
    "b = {}\n",
    "for i, j in enumerate(mat):\n",
    "    b[i] = sum(j)"
   ]
  },
  {
   "cell_type": "code",
   "execution_count": 217,
   "metadata": {},
   "outputs": [
    {
     "data": {
      "text/plain": [
       "[2, 0, 3]"
      ]
     },
     "execution_count": 217,
     "metadata": {},
     "output_type": "execute_result"
    }
   ],
   "source": [
    "k = 3\n",
    "[i[0] for i in sorted(b.items(), key=lambda item:item[1])][:k]\n"
   ]
  },
  {
   "cell_type": "code",
   "execution_count": 219,
   "metadata": {},
   "outputs": [],
   "source": [
    "mat = [[1,0,0,0],\n",
    " [1,1,1,1],\n",
    " [1,0,0,0],\n",
    " [1,0,0,0]]"
   ]
  },
  {
   "cell_type": "code",
   "execution_count": 220,
   "metadata": {},
   "outputs": [
    {
     "data": {
      "text/plain": [
       "[0, 2]"
      ]
     },
     "execution_count": 220,
     "metadata": {},
     "output_type": "execute_result"
    }
   ],
   "source": [
    "k = 2\n",
    "b = {}\n",
    "for i, j in enumerate(mat):\n",
    "    b[i] = sum(j)\n",
    "[i[0] for i in sorted(b.items(), key=lambda item:item[1])][:k]"
   ]
  },
  {
   "cell_type": "markdown",
   "metadata": {},
   "source": [
    "1346. 检查整数及其两倍数是否存在\n",
    "\n",
    "给你一个整数数组 arr，请你检查是否存在两个整数 N 和 M，满足 N 是 M 的两倍（即，N = 2 * M）。\n",
    "\n",
    "更正式地，检查是否存在两个下标 i 和 j 满足：\n",
    "\n",
    "i != j\n",
    "0 <= i, j < arr.length\n",
    "arr[i] == 2 * arr[j]\n",
    "\n",
    "输入：arr = [10,2,5,3]\n",
    "输出：true\n",
    "解释：N = 10 是 M = 5 的两倍，即 10 = 2 * 5 。"
   ]
  },
  {
   "cell_type": "code",
   "execution_count": 280,
   "metadata": {},
   "outputs": [
    {
     "name": "stdout",
     "output_type": "stream",
     "text": [
      "True\n"
     ]
    }
   ],
   "source": [
    "arr = [-20,8,-6,-14,0,-19,14,4]\n",
    "m = {}\n",
    "for i, j in enumerate(arr):\n",
    "    m[j*2] = i\n",
    "for i, j in enumerate(arr):\n",
    "    if j in m.keys() and i != m[j]:\n",
    "        print(True)"
   ]
  },
  {
   "cell_type": "code",
   "execution_count": 274,
   "metadata": {},
   "outputs": [
    {
     "name": "stdout",
     "output_type": "stream",
     "text": [
      "True\n"
     ]
    }
   ],
   "source": [
    "for i, j in enumerate(arr):\n",
    "    if j in m and i != m[j]:\n",
    "        print(True)"
   ]
  },
  {
   "cell_type": "code",
   "execution_count": 279,
   "metadata": {},
   "outputs": [
    {
     "data": {
      "text/plain": [
       "dict_keys([16, 0, -12, 8, -40, -28, -38, 28])"
      ]
     },
     "execution_count": 279,
     "metadata": {},
     "output_type": "execute_result"
    }
   ],
   "source": [
    "m.keys()"
   ]
  },
  {
   "cell_type": "markdown",
   "metadata": {},
   "source": [
    "1351. 统计有序矩阵中的负数\n",
    "\n",
    "给你一个 m * n 的矩阵 grid，矩阵中的元素无论是按行还是按列，都以非递增顺序排列。 \n",
    "\n",
    "请你统计并返回 grid 中 负数 的数目。\n",
    "\n",
    "输入：grid = [[4,3,2,-1],[3,2,1,-1],[1,1,-1,-2],[-1,-1,-2,-3]]\n",
    "输出：8\n",
    "解释：矩阵中共有 8 个负数。\n"
   ]
  },
  {
   "cell_type": "code",
   "execution_count": null,
   "metadata": {},
   "outputs": [],
   "source": []
  },
  {
   "cell_type": "code",
   "execution_count": 281,
   "metadata": {},
   "outputs": [],
   "source": [
    "grid = [[4,3,2,-1],[3,2,1,-1],[1,1,-1,-2],[-1,-1,-2,-3]]"
   ]
  },
  {
   "cell_type": "code",
   "execution_count": 290,
   "metadata": {},
   "outputs": [
    {
     "data": {
      "text/plain": [
       "8"
      ]
     },
     "execution_count": 290,
     "metadata": {},
     "output_type": "execute_result"
    }
   ],
   "source": [
    "str(grid).count('-')"
   ]
  },
  {
   "cell_type": "code",
   "execution_count": null,
   "metadata": {},
   "outputs": [],
   "source": []
  },
  {
   "cell_type": "markdown",
   "metadata": {},
   "source": [
    "1365. 有多少小于当前数字的数字\n",
    "给你一个数组 nums，对于其中每个元素 nums[i]，请你统计数组中比它小的所有数字的数目。\n",
    "\n",
    "换而言之，对于每个 nums[i] 你必须计算出有效的 j 的数量，其中 j 满足 j != i 且 nums[j] < nums[i] 。\n",
    "\n",
    "以数组形式返回答案。\n",
    "\n",
    "输入：nums = [8,1,2,2,3]\n",
    "输出：[4,0,1,1,3]\n",
    "解释： \n",
    "对于 nums[0]=8 存在四个比它小的数字：（1，2，2 和 3）。 \n",
    "对于 nums[1]=1 不存在比它小的数字。\n",
    "对于 nums[2]=2 存在一个比它小的数字：（1）。 \n",
    "对于 nums[3]=2 存在一个比它小的数字：（1）。 \n",
    "对于 nums[4]=3 存在三个比它小的数字：（1，2 和 2）。\n"
   ]
  },
  {
   "cell_type": "code",
   "execution_count": 306,
   "metadata": {},
   "outputs": [
    {
     "data": {
      "text/plain": [
       "[4, 0, 1, 1, 3]"
      ]
     },
     "execution_count": 306,
     "metadata": {},
     "output_type": "execute_result"
    }
   ],
   "source": [
    "nums = [8,1,2,2,3]\n",
    "bulle = [0] * 101\n",
    "for i in nums:\n",
    "    bulle[i] += 1\n",
    "[sum(bulle[0:i]) for i in nums]"
   ]
  },
  {
   "cell_type": "markdown",
   "metadata": {},
   "source": [
    "1380. 矩阵中的幸运数\n",
    "\n",
    "给你一个 m * n 的矩阵，矩阵中的数字 各不相同 。请你按 任意 顺序返回矩阵中的所有幸运数。\n",
    "\n",
    "幸运数是指矩阵中满足同时下列两个条件的元素：\n",
    "\n",
    "在同一行的所有元素中最小\n",
    "在同一列的所有元素中最大\n",
    "\n",
    "输入：matrix = [[3,7,8],[9,11,13],[15,16,17]]\n",
    "输出：[15]\n",
    "解释：15 是唯一的幸运数，因为它是其所在行中的最小值，也是所在列中的最大值。\n"
   ]
  },
  {
   "cell_type": "code",
   "execution_count": 331,
   "metadata": {},
   "outputs": [],
   "source": [
    "matrix = [[3,7,8],[9,11,13],[15,16,17]]"
   ]
  },
  {
   "cell_type": "code",
   "execution_count": 343,
   "metadata": {},
   "outputs": [
    {
     "data": {
      "text/plain": [
       "({3, 9, 15}, {15, 16, 17})"
      ]
     },
     "execution_count": 343,
     "metadata": {},
     "output_type": "execute_result"
    }
   ],
   "source": [
    "minax =  {min(i) for i in matrix}\n",
    "maxax = {max(i) for i in zip(*matrix)}\n",
    "minax, maxax"
   ]
  },
  {
   "cell_type": "code",
   "execution_count": 344,
   "metadata": {},
   "outputs": [
    {
     "data": {
      "text/plain": [
       "{15}"
      ]
     },
     "execution_count": 344,
     "metadata": {},
     "output_type": "execute_result"
    }
   ],
   "source": [
    "minax & maxax"
   ]
  },
  {
   "cell_type": "markdown",
   "metadata": {},
   "source": [
    "zip 知识讲解"
   ]
  },
  {
   "cell_type": "raw",
   "metadata": {},
   "source": [
    ">>>a = [1,2,3]\n",
    ">>> b = [4,5,6]\n",
    ">>> c = [4,5,6,7,8]\n",
    ">>> zipped = zip(a,b)     # 打包为元组的列表\n",
    "[(1, 4), (2, 5), (3, 6)]\n",
    ">>> zip(a,c)              # 元素个数与最短的列表一致\n",
    "[(1, 4), (2, 5), (3, 6)]\n",
    ">>> zip(*zipped)          # 与 zip 相反，*zipped 可理解为解压，返回二维矩阵式\n",
    "[(1, 2, 3), (4, 5, 6)]\n"
   ]
  },
  {
   "cell_type": "code",
   "execution_count": 337,
   "metadata": {},
   "outputs": [
    {
     "data": {
      "text/plain": [
       "<zip at 0x7fcd18efeb88>"
      ]
     },
     "execution_count": 337,
     "metadata": {},
     "output_type": "execute_result"
    }
   ],
   "source": [
    "zipped = zip(a, b)\n",
    "zipped"
   ]
  },
  {
   "cell_type": "raw",
   "metadata": {},
   "source": [
    "1389. 按既定顺序创建目标数组\n",
    "\n",
    "给你两个整数数组 nums 和 index。你需要按照以下规则创建目标数组：\n",
    "\n",
    "目标数组 target 最初为空。\n",
    "按从左到右的顺序依次读取 nums[i] 和 index[i]，在 target 数组中的下标 index[i] 处插入值 nums[i] 。\n",
    "重复上一步，直到在 nums 和 index 中都没有要读取的元素。\n",
    "请你返回目标数组。\n",
    "\n",
    "题目保证数字插入位置总是存在。\n",
    "\n",
    "输入：nums = [0,1,2,3,4], index = [0,1,2,2,1]\n",
    "输出：[0,4,1,3,2]\n",
    "解释：\n",
    "nums       index     target\n",
    "0            0        [0]\n",
    "1            1        [0,1]\n",
    "2            2        [0,1,2]\n",
    "3            2        [0,1,3,2]\n",
    "4            1        [0,4,1,3,2]\n"
   ]
  },
  {
   "cell_type": "code",
   "execution_count": 357,
   "metadata": {},
   "outputs": [],
   "source": [
    "target = []\n",
    "for i, j in enumerate(nums):\n",
    "    target.insert(indexs[i], j)"
   ]
  },
  {
   "cell_type": "code",
   "execution_count": 358,
   "metadata": {},
   "outputs": [
    {
     "data": {
      "text/plain": [
       "[0, 4, 1, 3, 2]"
      ]
     },
     "execution_count": 358,
     "metadata": {},
     "output_type": "execute_result"
    }
   ],
   "source": [
    "target"
   ]
  },
  {
   "cell_type": "raw",
   "metadata": {},
   "source": [
    "1394. 找出数组中的幸运数\n",
    "\n",
    "在整数数组中，如果一个整数的出现频次和它的数值大小相等，我们就称这个整数为「幸运数」。\n",
    "\n",
    "给你一个整数数组 arr，请你从中找出并返回一个幸运数。\n",
    "\n",
    "如果数组中存在多个幸运数，只需返回 最大 的那个。\n",
    "如果数组中不含幸运数，则返回 -1 。\n",
    "\n",
    "输入：arr = [2,2,3,4]\n",
    "输出：2\n",
    "解释：数组中唯一的幸运数是 2 ，因为数值 2 的出现频次也是 2 。\n",
    "\n"
   ]
  },
  {
   "cell_type": "code",
   "execution_count": 370,
   "metadata": {},
   "outputs": [
    {
     "data": {
      "text/plain": [
       "[2, 2]"
      ]
     },
     "execution_count": 370,
     "metadata": {},
     "output_type": "execute_result"
    }
   ],
   "source": [
    "arr = [2,2,3,4]\n",
    "max([i for i in arr if arr.count(i) == i])"
   ]
  },
  {
   "cell_type": "code",
   "execution_count": 365,
   "metadata": {},
   "outputs": [
    {
     "data": {
      "text/plain": [
       "3"
      ]
     },
     "execution_count": 365,
     "metadata": {},
     "output_type": "execute_result"
    }
   ],
   "source": [
    "arr = [1,2,2,3,3,3]\n",
    "max([i for i in arr if arr.count(i) == i])"
   ]
  },
  {
   "cell_type": "code",
   "execution_count": 371,
   "metadata": {},
   "outputs": [
    {
     "data": {
      "text/plain": [
       "[]"
      ]
     },
     "execution_count": 371,
     "metadata": {},
     "output_type": "execute_result"
    }
   ],
   "source": [
    "arr = [5]\n",
    "res = []\n",
    "for i in arr:\n",
    "    if arr.count(i) == i:\n",
    "        res.append(i)\n",
    "res"
   ]
  },
  {
   "cell_type": "code",
   "execution_count": null,
   "metadata": {},
   "outputs": [],
   "source": []
  },
  {
   "cell_type": "raw",
   "metadata": {},
   "source": [
    "1399. 统计最大组的数目\n",
    "给你一个整数 n 。请你先求出从 1 到 n 的每个整数 10 进制表示下的数位和（每一位上的数字相加），然后把数位和相等的数字放到同一个组中。\n",
    "\n",
    "请你统计每个组中的数字数目，并返回数字数目并列最多的组有多少个。\n",
    "\n",
    "输入：n = 13\n",
    "输出：4\n",
    "解释：总共有 9 个组，将 1 到 13 按数位求和后这些组分别是：\n",
    "[1,10]，[2,11]，[3,12]，[4,13]，[5]，[6]，[7]，[8]，[9]。总共有 4 个组拥有的数字并列最多。\n",
    "\n"
   ]
  },
  {
   "cell_type": "code",
   "execution_count": 445,
   "metadata": {},
   "outputs": [],
   "source": [
    "n = 264\n",
    "res = [0]*1000\n",
    "for i in range(1, n+1):\n",
    "    res[i] = sum_num(i)"
   ]
  },
  {
   "cell_type": "code",
   "execution_count": 447,
   "metadata": {},
   "outputs": [
    {
     "data": {
      "text/plain": [
       "[3, 6, 9, 12, 15, 18, 21, 24, 26]"
      ]
     },
     "execution_count": 447,
     "metadata": {},
     "output_type": "execute_result"
    }
   ],
   "source": [
    "tmp"
   ]
  },
  {
   "cell_type": "code",
   "execution_count": 475,
   "metadata": {},
   "outputs": [
    {
     "data": {
      "text/plain": [
       "2"
      ]
     },
     "execution_count": 475,
     "metadata": {},
     "output_type": "execute_result"
    }
   ],
   "source": [
    "tmp = []\n",
    "for i in range(1, n+1):\n",
    "    tmp.append(res.count(i))\n",
    "tmp.count(max(tmp))"
   ]
  },
  {
   "cell_type": "code",
   "execution_count": 467,
   "metadata": {},
   "outputs": [],
   "source": [
    "def sum_num(x):\n",
    "    res = 0\n",
    "    while x != 0:\n",
    "        res += x % 10\n",
    "        x = x // 10\n",
    "    return res"
   ]
  },
  {
   "cell_type": "code",
   "execution_count": 474,
   "metadata": {
    "scrolled": true
   },
   "outputs": [
    {
     "data": {
      "text/plain": [
       "14"
      ]
     },
     "execution_count": 474,
     "metadata": {},
     "output_type": "execute_result"
    }
   ],
   "source": [
    "sum_num(1238)"
   ]
  },
  {
   "cell_type": "raw",
   "metadata": {},
   "source": [
    "1413. 逐步求和得到正数的最小值\n",
    "\n",
    "给你一个整数数组 nums 。你可以选定任意的 正数 startValue 作为初始值。\n",
    "\n",
    "你需要从左到右遍历 nums 数组，并将 startValue 依次累加上 nums 数组中的值。\n",
    "\n",
    "请你在确保累加和始终大于等于 1 的前提下，选出一个最小的 正数 作为 startValue 。\n",
    "\n",
    "\n",
    "\n",
    "输入：nums = [-3,2,-3,4,2]\n",
    "输出：5\n",
    "解释：如果你选择 startValue = 4，在第三次累加时，和小于 1 。\n",
    "                累加求和\n",
    "                startValue = 4 | startValue = 5 | nums\n",
    "                  (4 -3 ) = 1  | (5 -3 ) = 2    |  -3\n",
    "                  (1 +2 ) = 3  | (2 +2 ) = 4    |   2\n",
    "                  (3 -3 ) = 0  | (4 -3 ) = 1    |  -3\n",
    "                  (0 +4 ) = 4  | (1 +4 ) = 5    |   4\n",
    "                  (4 +2 ) = 6  | (5 +2 ) = 7    |   2"
   ]
  },
  {
   "cell_type": "code",
   "execution_count": 476,
   "metadata": {},
   "outputs": [],
   "source": [
    "nums = [-3,2,-3,4,2]"
   ]
  },
  {
   "cell_type": "code",
   "execution_count": 502,
   "metadata": {},
   "outputs": [
    {
     "data": {
      "text/plain": [
       "5"
      ]
     },
     "execution_count": 502,
     "metadata": {},
     "output_type": "execute_result"
    }
   ],
   "source": [
    "nums = [-3,2,-3,4,2]\n",
    "max(-min(np.cumsum(nums)), 0) + 1"
   ]
  },
  {
   "cell_type": "code",
   "execution_count": 503,
   "metadata": {},
   "outputs": [
    {
     "data": {
      "text/plain": [
       "1"
      ]
     },
     "execution_count": 503,
     "metadata": {},
     "output_type": "execute_result"
    }
   ],
   "source": [
    "nums = [1,2]\n",
    "max(-min(np.cumsum(nums)), 0) + 1"
   ]
  },
  {
   "cell_type": "code",
   "execution_count": 506,
   "metadata": {},
   "outputs": [],
   "source": [
    "np.sqrt?"
   ]
  },
  {
   "cell_type": "raw",
   "metadata": {},
   "source": [
    "69. x 的平方根\n",
    "\n",
    "实现 int sqrt(int x) 函数。\n",
    "\n",
    "计算并返回 x 的平方根，其中 x 是非负整数。\n",
    "\n",
    "由于返回类型是整数，结果只保留整数的部分，小数部分将被舍去。\n",
    "\n",
    "示例 1:\n",
    "\n",
    "输入: 4\n",
    "输出: 2\n",
    "\n"
   ]
  },
  {
   "cell_type": "code",
   "execution_count": 512,
   "metadata": {},
   "outputs": [],
   "source": [
    "def my_sqrt(x):\n",
    "    if x <= 1:\n",
    "        print(x)\n",
    "    r = x\n",
    "    while r > x / r:\n",
    "        r = (r + x / r) // 2\n",
    "    return int(r)"
   ]
  },
  {
   "cell_type": "code",
   "execution_count": 513,
   "metadata": {},
   "outputs": [
    {
     "data": {
      "text/plain": [
       "2"
      ]
     },
     "execution_count": 513,
     "metadata": {},
     "output_type": "execute_result"
    }
   ],
   "source": [
    "my_sqrt(5)"
   ]
  },
  {
   "cell_type": "raw",
   "metadata": {},
   "source": [
    "283. 移动零\n",
    "给定一个数组 nums，编写一个函数将所有 0 移动到数组的末尾，同时保持非零元素的相对顺序。\n",
    "\n",
    "示例:\n",
    "\n",
    "输入: [0,1,0,3,12]\n",
    "输出: [1,3,12,0,0]\n"
   ]
  },
  {
   "cell_type": "code",
   "execution_count": 514,
   "metadata": {},
   "outputs": [],
   "source": [
    "a = [0,1,0,3,12]"
   ]
  },
  {
   "cell_type": "code",
   "execution_count": 517,
   "metadata": {},
   "outputs": [],
   "source": [
    "for i in range(0, len(a)):\n",
    "    if a[i] == 0:\n",
    "        for j in range(i+1, len(a)):\n",
    "            if a[j] != 0:\n",
    "                a[i], a[j] = a[j], a[i]"
   ]
  },
  {
   "cell_type": "code",
   "execution_count": 518,
   "metadata": {},
   "outputs": [],
   "source": [
    "for i in range(nums.count(0)):\n",
    "    a.remove(0)\n",
    "    a.append(0)"
   ]
  },
  {
   "cell_type": "code",
   "execution_count": 519,
   "metadata": {},
   "outputs": [
    {
     "data": {
      "text/plain": [
       "[1, 3, 12, 0, 0]"
      ]
     },
     "execution_count": 519,
     "metadata": {},
     "output_type": "execute_result"
    }
   ],
   "source": [
    "a"
   ]
  },
  {
   "cell_type": "code",
   "execution_count": null,
   "metadata": {},
   "outputs": [],
   "source": []
  },
  {
   "cell_type": "code",
   "execution_count": 533,
   "metadata": {},
   "outputs": [
    {
     "data": {
      "text/plain": [
       "[1, 2]"
      ]
     },
     "execution_count": 533,
     "metadata": {},
     "output_type": "execute_result"
    }
   ],
   "source": [
    "nums = [2,2,3,1]\n",
    "list(set(nums))[:-1]"
   ]
  },
  {
   "cell_type": "markdown",
   "metadata": {},
   "source": [
    "sorted(nums,reverse=True)[len(nums)]"
   ]
  },
  {
   "cell_type": "code",
   "execution_count": 538,
   "metadata": {},
   "outputs": [
    {
     "data": {
      "text/plain": [
       "[1, 2, 3]"
      ]
     },
     "execution_count": 538,
     "metadata": {},
     "output_type": "execute_result"
    }
   ],
   "source": [
    "sorted([2,1,3])"
   ]
  },
  {
   "cell_type": "code",
   "execution_count": 536,
   "metadata": {},
   "outputs": [],
   "source": [
    "a"
   ]
  },
  {
   "cell_type": "code",
   "execution_count": null,
   "metadata": {},
   "outputs": [],
   "source": []
  }
 ],
 "metadata": {
  "kernelspec": {
   "display_name": "Python 3",
   "language": "python",
   "name": "python3"
  },
  "language_info": {
   "codemirror_mode": {
    "name": "ipython",
    "version": 3
   },
   "file_extension": ".py",
   "mimetype": "text/x-python",
   "name": "python",
   "nbconvert_exporter": "python",
   "pygments_lexer": "ipython3",
   "version": "3.5.2"
  }
 },
 "nbformat": 4,
 "nbformat_minor": 2
}
